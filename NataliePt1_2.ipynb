{
 "cells": [
  {
   "cell_type": "markdown",
   "metadata": {},
   "source": [
    "**Final Project Part 1 option 2**"
   ]
  },
  {
   "cell_type": "markdown",
   "metadata": {},
   "source": [
    "I am attempting this with a different data set. "
   ]
  },
  {
   "cell_type": "markdown",
   "metadata": {},
   "source": [
    "Include the following in the Proposal: \n",
    "\n",
    "- The target variable you want to predict\n",
    "- How predicting that target variable could help with some kind of decision\n",
    "- The features you want to use to predict that target variable\n",
    "- Goals and success metrics\n",
    "- Risks or limitations"
   ]
  },
  {
   "cell_type": "markdown",
   "metadata": {},
   "source": [
    "**Target Variable I Want To Predict**"
   ]
  },
  {
   "cell_type": "markdown",
   "metadata": {},
   "source": [
    "I am looking at the Age-In to Medicare audience on Facebook (for a Health Care company) which is ads targetted to people in the New Jersey area who are ageing into medicare. The age in process starts at 64+6 months and runs through people in the age range of 65+1 month. \n",
    "\n",
    "The Target variable I want to predict is the amount of leads the creative will drive. "
   ]
  },
  {
   "cell_type": "markdown",
   "metadata": {},
   "source": [
    "**How Predicting the target variable could help with some kind of decision**"
   ]
  },
  {
   "cell_type": "markdown",
   "metadata": {},
   "source": [
    "By predicting the amount of leads specific creative will drive we can estimate the cost per response and cost per lead which will help the client estimate how the social assets will contribute to the success of next years campaign. \n"
   ]
  },
  {
   "cell_type": "markdown",
   "metadata": {},
   "source": [
    "**The features I want to use to predict the target variable**"
   ]
  },
  {
   "cell_type": "markdown",
   "metadata": {},
   "source": [
    "The features I want to use to predict leads ( which I could use to break into more granularity of call vs. web leads) is the impressions, the media cost, and site visits - potentially here I could also look at the day that attributed the most leads and what time of the year we were seeing these leads. "
   ]
  },
  {
   "cell_type": "markdown",
   "metadata": {},
   "source": [
    "**Goals and success metrics**"
   ]
  },
  {
   "cell_type": "markdown",
   "metadata": {},
   "source": [
    "The goal is to be able to predict the nunmber of leads certain creative (based on tagging) will be able to produce. The success metric is to be able to create a model that can accurately predict the number of leads creative will get based on spend, impressions, and site visits. "
   ]
  },
  {
   "cell_type": "markdown",
   "metadata": {},
   "source": [
    "**Risks or limitations**"
   ]
  },
  {
   "cell_type": "markdown",
   "metadata": {},
   "source": [
    "The risks and limitiations is the fact that not all creative assets have attributable leads. This is common for social campaigns to not be able to drive as many web or call qualified leads. Additionally, this research is limited to the Age-In population of the Medicare audience that this health care company markets to."
   ]
  },
  {
   "cell_type": "markdown",
   "metadata": {},
   "source": [
    "**Looking at the data**"
   ]
  },
  {
   "cell_type": "markdown",
   "metadata": {},
   "source": [
    "\n",
    "\n",
    "- Does it have the target variable you want\n",
    "- Does it have feature columns that are plausibly predictive of the target variable\n",
    "- How many rows and columns does it have\n",
    "- How many values are missing in each column."
   ]
  },
  {
   "cell_type": "code",
   "execution_count": 1,
   "metadata": {},
   "outputs": [],
   "source": [
    "# Import libraries\n",
    "import matplotlib.pyplot as plt\n",
    "import numpy as np\n",
    "import pandas as pd\n",
    "import seaborn as sns\n",
    "\n",
    "%matplotlib inline"
   ]
  },
  {
   "cell_type": "code",
   "execution_count": null,
   "metadata": {},
   "outputs": [],
   "source": []
  },
  {
   "cell_type": "code",
   "execution_count": 2,
   "metadata": {},
   "outputs": [],
   "source": [
    "birthday_compiled = pd.read_csv('Birthday_compiled.csv')"
   ]
  },
  {
   "cell_type": "code",
   "execution_count": 15,
   "metadata": {},
   "outputs": [
    {
     "data": {
      "text/html": [
       "<div>\n",
       "<style scoped>\n",
       "    .dataframe tbody tr th:only-of-type {\n",
       "        vertical-align: middle;\n",
       "    }\n",
       "\n",
       "    .dataframe tbody tr th {\n",
       "        vertical-align: top;\n",
       "    }\n",
       "\n",
       "    .dataframe thead th {\n",
       "        text-align: right;\n",
       "    }\n",
       "</style>\n",
       "<table border=\"1\" class=\"dataframe\">\n",
       "  <thead>\n",
       "    <tr style=\"text-align: right;\">\n",
       "      <th></th>\n",
       "      <th>Tagging</th>\n",
       "      <th>Day</th>\n",
       "      <th>Ai_trk</th>\n",
       "      <th>GP Job Name</th>\n",
       "      <th>Unnamed: 4</th>\n",
       "      <th>Impressions</th>\n",
       "      <th>Media Cost</th>\n",
       "      <th>visits</th>\n",
       "      <th>Calls</th>\n",
       "      <th>Web Leads</th>\n",
       "    </tr>\n",
       "  </thead>\n",
       "  <tbody>\n",
       "    <tr>\n",
       "      <th>0</th>\n",
       "      <td>4348319SOC-BDA1-C1</td>\n",
       "      <td>18-Jan-19</td>\n",
       "      <td>19SOC-BDA1-C1</td>\n",
       "      <td>Age-In NTM Social Facebook (64+6 mo) Free Guide</td>\n",
       "      <td>NaN</td>\n",
       "      <td>333</td>\n",
       "      <td>$5.85</td>\n",
       "      <td>3.0</td>\n",
       "      <td>NaN</td>\n",
       "      <td>NaN</td>\n",
       "    </tr>\n",
       "    <tr>\n",
       "      <th>1</th>\n",
       "      <td>4348319SOC-BDA1-C2</td>\n",
       "      <td>18-Jan-19</td>\n",
       "      <td>19SOC-BDA1-C2</td>\n",
       "      <td>Age-In NTM Social Facebook (64+6 mo) Three Mon...</td>\n",
       "      <td>NaN</td>\n",
       "      <td>340</td>\n",
       "      <td>$6.87</td>\n",
       "      <td>3.0</td>\n",
       "      <td>0.0</td>\n",
       "      <td>NaN</td>\n",
       "    </tr>\n",
       "    <tr>\n",
       "      <th>2</th>\n",
       "      <td>4348319SOC-BDA1-C3</td>\n",
       "      <td>18-Jan-19</td>\n",
       "      <td>19SOC-BDA1-C3</td>\n",
       "      <td>Age-In NTM Social Facebook (64+6 mo) Carousel</td>\n",
       "      <td>NaN</td>\n",
       "      <td>156</td>\n",
       "      <td>$2.15</td>\n",
       "      <td>2.0</td>\n",
       "      <td>NaN</td>\n",
       "      <td>NaN</td>\n",
       "    </tr>\n",
       "    <tr>\n",
       "      <th>3</th>\n",
       "      <td>4348319SOC-BDA2-C3</td>\n",
       "      <td>18-Jan-19</td>\n",
       "      <td>19SOC-BDA2-C3</td>\n",
       "      <td>Age-In NTM Social Facebook (64+9 mo) Image Car...</td>\n",
       "      <td>NaN</td>\n",
       "      <td>303</td>\n",
       "      <td>$6.00</td>\n",
       "      <td>NaN</td>\n",
       "      <td>NaN</td>\n",
       "      <td>NaN</td>\n",
       "    </tr>\n",
       "    <tr>\n",
       "      <th>4</th>\n",
       "      <td>4348319SOC-BDA3-C1</td>\n",
       "      <td>18-Jan-19</td>\n",
       "      <td>19SOC-BDA3-C1</td>\n",
       "      <td>Age-In NTM Social Facebook (64+11mo) See Any D...</td>\n",
       "      <td>NaN</td>\n",
       "      <td>177</td>\n",
       "      <td>$1.56</td>\n",
       "      <td>NaN</td>\n",
       "      <td>NaN</td>\n",
       "      <td>NaN</td>\n",
       "    </tr>\n",
       "  </tbody>\n",
       "</table>\n",
       "</div>"
      ],
      "text/plain": [
       "             Tagging         Day         Ai_trk  \\\n",
       "0  4348319SOC-BDA1-C1  18-Jan-19  19SOC-BDA1-C1   \n",
       "1  4348319SOC-BDA1-C2  18-Jan-19  19SOC-BDA1-C2   \n",
       "2  4348319SOC-BDA1-C3  18-Jan-19  19SOC-BDA1-C3   \n",
       "3  4348319SOC-BDA2-C3  18-Jan-19  19SOC-BDA2-C3   \n",
       "4  4348319SOC-BDA3-C1  18-Jan-19  19SOC-BDA3-C1   \n",
       "\n",
       "                                         GP Job Name  Unnamed: 4 Impressions  \\\n",
       "0    Age-In NTM Social Facebook (64+6 mo) Free Guide         NaN         333   \n",
       "1  Age-In NTM Social Facebook (64+6 mo) Three Mon...         NaN         340   \n",
       "2      Age-In NTM Social Facebook (64+6 mo) Carousel         NaN         156   \n",
       "3  Age-In NTM Social Facebook (64+9 mo) Image Car...         NaN         303   \n",
       "4  Age-In NTM Social Facebook (64+11mo) See Any D...         NaN         177   \n",
       "\n",
       "  Media Cost  visits  Calls   Web Leads  \n",
       "0     $5.85      3.0     NaN        NaN  \n",
       "1     $6.87      3.0     0.0        NaN  \n",
       "2     $2.15      2.0     NaN        NaN  \n",
       "3     $6.00      NaN     NaN        NaN  \n",
       "4     $1.56      NaN     NaN        NaN  "
      ]
     },
     "execution_count": 15,
     "metadata": {},
     "output_type": "execute_result"
    }
   ],
   "source": [
    "birthday_compiled.head()"
   ]
  },
  {
   "cell_type": "markdown",
   "metadata": {},
   "source": [
    "**How many rows and columns does it have**"
   ]
  },
  {
   "cell_type": "code",
   "execution_count": 17,
   "metadata": {},
   "outputs": [
    {
     "data": {
      "text/plain": [
       "(2288, 10)"
      ]
     },
     "execution_count": 17,
     "metadata": {},
     "output_type": "execute_result"
    }
   ],
   "source": [
    "birthday_compiled.shape"
   ]
  },
  {
   "cell_type": "markdown",
   "metadata": {},
   "source": [
    "**How many values are missing in each column.**"
   ]
  },
  {
   "cell_type": "code",
   "execution_count": 19,
   "metadata": {},
   "outputs": [
    {
     "data": {
      "text/plain": [
       "Tagging           1\n",
       "Day               1\n",
       "Ai_trk            1\n",
       "GP Job Name       1\n",
       "Unnamed: 4     2288\n",
       "Impressions       1\n",
       "Media Cost        0\n",
       "visits          676\n",
       "Calls          2016\n",
       "Web Leads      2017\n",
       "dtype: int64"
      ]
     },
     "execution_count": 19,
     "metadata": {},
     "output_type": "execute_result"
    }
   ],
   "source": [
    "birthday_compiled.isnull().sum()"
   ]
  },
  {
   "cell_type": "code",
   "execution_count": null,
   "metadata": {},
   "outputs": [],
   "source": []
  }
 ],
 "metadata": {
  "kernelspec": {
   "display_name": "Python 3",
   "language": "python",
   "name": "python3"
  },
  "language_info": {
   "codemirror_mode": {
    "name": "ipython",
    "version": 3
   },
   "file_extension": ".py",
   "mimetype": "text/x-python",
   "name": "python",
   "nbconvert_exporter": "python",
   "pygments_lexer": "ipython3",
   "version": "3.7.3"
  }
 },
 "nbformat": 4,
 "nbformat_minor": 2
}
